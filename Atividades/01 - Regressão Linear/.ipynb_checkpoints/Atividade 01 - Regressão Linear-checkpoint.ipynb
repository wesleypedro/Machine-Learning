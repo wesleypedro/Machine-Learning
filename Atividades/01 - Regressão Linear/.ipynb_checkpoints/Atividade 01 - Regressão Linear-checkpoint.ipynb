{
 "cells": [
  {
   "cell_type": "markdown",
   "metadata": {},
   "source": [
    "# Atividade 01 - Regressão Linear (28/02/2020)"
   ]
  },
  {
   "cell_type": "markdown",
   "metadata": {},
   "source": [
    "Importação de bibliotecas a serem usadas"
   ]
  },
  {
   "cell_type": "code",
   "execution_count": 1,
   "metadata": {},
   "outputs": [],
   "source": [
    "import numpy as np\n",
    "import matplotlib.pyplot as plt\n",
    "%matplotlib inline "
   ]
  },
  {
   "cell_type": "markdown",
   "metadata": {},
   "source": [
    "## Tarefas de implementação"
   ]
  },
  {
   "cell_type": "markdown",
   "metadata": {},
   "source": [
    "###  01. Implementando Regressão Linear Simples (uma variável)"
   ]
  },
  {
   "cell_type": "markdown",
   "metadata": {},
   "source": [
    "\n",
    "Para que posssamos obter valores preditos para novas entradas, temos que usar a seguinte fórmula\n",
    "\n",
    "\\begin{align*}\n",
    "    \\hat{Y}=\\hat{\\beta_0}+\\hat{\\beta_1}X,\n",
    "\\end{align*}\n",
    "onde:\n",
    "\n",
    "* $\\hat{Y}$ diz respeito o novo valor estimado a ser predito dado uma entrada $X$, e\n",
    "* $\\hat{\\beta_0}$ e $\\hat{\\beta_1}$ são coeficientes desconhecidos do modelo.\n",
    "\n",
    "Esses coeficientes desconhecidos podem ser descobertos usando o Método dos Mínimos Quadrados (MMQ) a seguir\n",
    "\n",
    "\\begin{align*}\n",
    "    \\hat{\\beta_1}=\\frac{\\sum_{i=1}^{n} (x_i-\\bar{x})(y_i-\\bar{y}) }{\\sum_{i=1}^{n} (x_i-\\bar{x})^2 },\n",
    "\\end{align*}\n",
    "\n",
    "\\begin{align*}\n",
    "    \\hat{\\beta_0}\\bar{y}-\\hat{\\beta_1}\\bar{x},\n",
    "\\end{align*}\n",
    " \n",
    "em que:\n",
    "* $y_i$ são os valores de y na $i$-ésima posição da amostra;\n",
    "* $x_i$ são os valores de x na $i$-ésima posição da amostra;\n",
    "* $\\hat{y}=\\frac{1}{n}\\sum_{i=1}^{n}y_i$, ou seja, a média dos valores de $y$ da amostra, e\n",
    "* $\\hat{x}=\\frac{1}{n}\\sum_{i=1}^{n}x_i$, ou seja, a média dos valores de $x$ da amostra.\n",
    "\n",
    "Para facilitar as variáveis, chamaremos \n",
    "\n",
    "$a = {\\sum_{i=1}^{n} (x_i-\\bar{x})(y_i-\\bar{y})}$ e \n",
    "\n",
    "$b = {\\sum_{i=1}^{n} (x_i-\\bar{x})^2 } $, então teremos:\n",
    "\n",
    "$\\hat{\\beta_1}=\\frac{a}{b}$."
   ]
  },
  {
   "cell_type": "code",
   "execution_count": 2,
   "metadata": {},
   "outputs": [],
   "source": [
    "class SingleLinearRegression():\n",
    "    def __init__(self):\n",
    "        self.beta0 = None\n",
    "        self.beta1 = None\n",
    "    \n",
    "    def fit(self, X, y):\n",
    "        self.X = np.array(X)\n",
    "        self.y = np.array(y)\n",
    "        \n",
    "        x_mean = X.mean()\n",
    "        y_mean = y.mean()\n",
    "        \n",
    "        x_dif = X-x_mean\n",
    "        y_dif = y-y_mean\n",
    "        \n",
    "        xy = x_dif*y_dif\n",
    "        xx = x_dif*x_dif\n",
    "        \n",
    "        a = sum(xy)\n",
    "        b = sum(xx)\n",
    "        \n",
    "        self.beta1 = a/b\n",
    "        self.beta0 = y_mean-(self.beta1*x_mean)\n",
    "        \n",
    "    \n",
    "    def predict(self, X):\n",
    "        return self.beta0+(self.beta1*X)"
   ]
  },
  {
   "cell_type": "markdown",
   "metadata": {},
   "source": [
    "### 03. Implementando Regressão Linear Multipla"
   ]
  },
  {
   "cell_type": "markdown",
   "metadata": {},
   "source": [
    "<!-- Formulas apenas para entender a equação fechada\n",
    "\\begin{align*}\n",
    "    y = f(X) + \\epsilon\n",
    "\\end{align*}\n",
    "onde,\n",
    "\\begin{align*}\n",
    "    f(X) = \\beta_0 + \\beta_1X_1 + \\beta_2X_2 + ... + \\beta_pX_p\n",
    "\\end{align*}\n",
    "\\begin{align*}\n",
    "    \\hat{y} = \\hat{\\beta_0} + \\hat{\\beta_1}X_1 + \\hat{\\beta_2}X_2 + ... + \\hat{\\beta_p}X_p\n",
    "\\end{align*}\n",
    "\\begin{align*}\n",
    "    y = X\\beta + \\epsilon\n",
    "\\end{align*}\n",
    "\\begin{align*}\n",
    "    \\hat{y} = X\\hat{\\beta}\n",
    "\\end{align*}\n",
    "-->\n",
    "\n",
    "De maneira geral, teremos essa fórmula como base geral para o Método dos Mínimos Quadrados.\n",
    "\n",
    "\\begin{align*}\n",
    "    \\hat{\\beta}=(X^TX)^{-1}X^Ty\n",
    "\\end{align*}\n",
    "\n",
    "Após fazermos um treinamento com os dados passados e criar um \"modelo\" que tenha informações do comportamento dos dados passados anteriormente, podemos agora predizer possíveis valores para novos valores como entrada. Para isso, usaremos o modelo acumulado no $\\hat{\\beta}$ acima e a partir de uma nova cadeia de valores para $X$, predizer um possível valor para $Y$.\n",
    "\n",
    "\\begin{align*}\n",
    "    \\hat{y}=X\\hat{\\beta}\n",
    "\\end{align*}"
   ]
  },
  {
   "cell_type": "code",
   "execution_count": 3,
   "metadata": {},
   "outputs": [],
   "source": [
    "class MultipleLinearRegression():\n",
    "    def __init__(self):\n",
    "        self.beta = None\n",
    "    \n",
    "    def fit(self, X, y):\n",
    "        ones = np.ones(X.shape[0])\n",
    "        \n",
    "        self.x = np.column_stack((ones, X))\n",
    "        xt = self.x.T\n",
    "        xtx = xt.dot(self.x)\n",
    "        xtxi = np.linalg.inv(xtx)\n",
    "        \n",
    "        self.beta = xtxi.dot(self.x.T).dot(y)\n",
    "        \n",
    "    \n",
    "    def predict(self, X):\n",
    "        ones = np.ones(X.shape[0])\n",
    "        X = np.column_stack((ones, X))\n",
    "        return X.dot(self.beta)"
   ]
  },
  {
   "cell_type": "markdown",
   "metadata": {},
   "source": [
    "### 03. Implementando Funções"
   ]
  },
  {
   "cell_type": "code",
   "execution_count": 4,
   "metadata": {},
   "outputs": [],
   "source": [
    "class funcoes():\n",
    "    def __init__(self):\n",
    "        pass\n",
    "    \n",
    "    # Residual Square Sum (RSS)\n",
    "    def rss(self, y_true, y_pred):\n",
    "        return np.sum((y_true-y_pred)**2)\n",
    "    \n",
    "    # Redisual Standard Error (RSE)\n",
    "    def rse(self, y_true, y_pred):\n",
    "        return np.sqrt((self.rss(y_true, y_pred))/(y_true.size-2))\n",
    "    \n",
    "    # TSS\n",
    "    def tss(self, y_true, y_pred):\n",
    "        y_mean = np.mean(y_pred)\n",
    "        return np.sum((y_true-y_mean)**2)\n",
    "    \n",
    "    # R2 Static\n",
    "    def r2(self, y_true, y_pred):\n",
    "        return 1-(self.rss(y_true, y_pred)/self.tss(y_true, y_pred))\n",
    "    \n",
    "    # Mean Absolute Error (MAE)\n",
    "    def mae(self, y_true, y_pred):\n",
    "        return np.sum(np.abs(y_true - y_pred))/y_true.size"
   ]
  },
  {
   "cell_type": "markdown",
   "metadata": {},
   "source": [
    "## Relatório com Análises"
   ]
  },
  {
   "cell_type": "markdown",
   "metadata": {},
   "source": [
    "Criando inicialmente um objeto para a classe que contém as funções a serem usadas como forma de avaliação"
   ]
  },
  {
   "cell_type": "code",
   "execution_count": 5,
   "metadata": {},
   "outputs": [],
   "source": [
    "f = funcoes()"
   ]
  },
  {
   "cell_type": "markdown",
   "metadata": {},
   "source": [
    "### 01. Carregando conjunto de dados"
   ]
  },
  {
   "cell_type": "code",
   "execution_count": 6,
   "metadata": {},
   "outputs": [],
   "source": [
    "data = np.loadtxt('files/Advertising.csv', skiprows=1, delimiter=',')"
   ]
  },
  {
   "cell_type": "markdown",
   "metadata": {},
   "source": [
    "#### Pré-processamento dos dados"
   ]
  },
  {
   "cell_type": "markdown",
   "metadata": {},
   "source": [
    "Após abrir os dados em um editor de texto, pude perceber que os mesmos contém um primeira coluna com índices que identificam os dados. Como esses índices não possuem uma correlação com os dados e o propósito é determinar uma análise apenas com os preços dos objetos, então podemos remover os mesmos na hora da separação entre X e y."
   ]
  },
  {
   "cell_type": "code",
   "execution_count": 7,
   "metadata": {},
   "outputs": [],
   "source": [
    "X = data[:,1:4]\n",
    "y = data[:,4]"
   ]
  },
  {
   "cell_type": "markdown",
   "metadata": {},
   "source": [
    "Poderemos aida separar uma parte da amostra dos dados entre dados de treino, para treinar o modelo, e dados de teste, com o propósito de após o modelo ser criado e treinado, predizer possíveis valores dada novas entradas. Com esses dados de teste podemos realizar esse procedimento e depois fazer uma comparação entre os valores preditos e os valores verdadeiros, usando assim as funções de avaliação acima criadas.\n",
    "\n",
    "Será separado para teste uma amostra contendo os últimos dez elementos dos dados."
   ]
  },
  {
   "cell_type": "code",
   "execution_count": 8,
   "metadata": {},
   "outputs": [],
   "source": [
    "X_train = X[:-10,:]\n",
    "y_train = y[:-10]\n",
    "\n",
    "X_test = X[-10:,:]\n",
    "y_test = y[-10:]"
   ]
  },
  {
   "cell_type": "markdown",
   "metadata": {},
   "source": [
    "### 02. Aplicando Regressão Linear Simples"
   ]
  },
  {
   "cell_type": "markdown",
   "metadata": {},
   "source": [
    "Antes de usar os dados para cada um, podemos dividir as colunas entre as que contém as informações de TVs, rádio e jornal. Para isso, podemos fazer:"
   ]
  },
  {
   "cell_type": "code",
   "execution_count": 9,
   "metadata": {},
   "outputs": [],
   "source": [
    "tv_train = X_train[:,0]\n",
    "tv_test = X_test[:,0]\n",
    "\n",
    "radio_train = X_train[:,1]\n",
    "radio_test = X_test[:,1]\n",
    "\n",
    "jornal_train = X_train[:,2]\n",
    "jornal_test = X_test[:,2]"
   ]
  },
  {
   "cell_type": "markdown",
   "metadata": {},
   "source": [
    "#### Variável TV contra Sales"
   ]
  },
  {
   "cell_type": "markdown",
   "metadata": {},
   "source": [
    "Antes de tudo, vamos plotar o gráfico que mostre a relação das TVs e das vendas"
   ]
  },
  {
   "cell_type": "code",
   "execution_count": 10,
   "metadata": {},
   "outputs": [
    {
     "data": {
      "text/plain": [
       "<matplotlib.collections.PathCollection at 0x7f589886dd30>"
      ]
     },
     "execution_count": 10,
     "metadata": {},
     "output_type": "execute_result"
    },
    {
     "data": {
      "image/png": "[encoded data removed]",
      "text/plain": [
       "<Figure size 432x288 with 1 Axes>"
      ]
     },
     "metadata": {
      "needs_background": "light"
     },
     "output_type": "display_data"
    }
   ],
   "source": [
    "plt.scatter(tv_train, y_train)"
   ]
  },
  {
   "cell_type": "markdown",
   "metadata": {},
   "source": [
    "Criando modelo e predizendo novos valores"
   ]
  },
  {
   "cell_type": "code",
   "execution_count": 11,
   "metadata": {},
   "outputs": [],
   "source": [
    "tv_slr_model = SingleLinearRegression()\n",
    "tv_slr_model.fit(tv_train,y_train)\n",
    "tv_predicted = tv_slr_model.predict(tv_test)"
   ]
  },
  {
   "cell_type": "markdown",
   "metadata": {},
   "source": [
    "Plotando os valores preditos em um gráfico"
   ]
  },
  {
   "cell_type": "code",
   "execution_count": 12,
   "metadata": {},
   "outputs": [
    {
     "data": {
      "text/plain": [
       "[<matplotlib.lines.Line2D at 0x7f58987e7780>]"
      ]
     },
     "execution_count": 12,
     "metadata": {},
     "output_type": "execute_result"
    },
    {
     "data": {
      "image/png": "[encoded data removed]",
      "text/plain": [
       "<Figure size 432x288 with 1 Axes>"
      ]
     },
     "metadata": {
      "needs_background": "light"
     },
     "output_type": "display_data"
    }
   ],
   "source": [
    "plt.scatter(tv_train, y_train)\n",
    "plt.plot(tv_test,tv_predicted, c='r')"
   ]
  },
  {
   "cell_type": "markdown",
   "metadata": {},
   "source": [
    "Reportando RSS, SER, R2 e o MAE"
   ]
  },
  {
   "cell_type": "code",
   "execution_count": 13,
   "metadata": {},
   "outputs": [
    {
     "name": "stdout",
     "output_type": "stream",
     "text": [
      "RSS:  98.43501923172914\n",
      "SER:  3.507759598941487\n",
      "R2:  0.6952901158492976\n",
      "MAE:  2.7829324073218125\n"
     ]
    }
   ],
   "source": [
    "print('RSS: ', f.rss(y_test, tv_predicted))\n",
    "print('SER: ', f.rse(y_test, tv_predicted))\n",
    "print('R2: ', f.r2(y_test, tv_predicted))\n",
    "print('MAE: ', f.mae(y_test, tv_predicted))"
   ]
  },
  {
   "cell_type": "markdown",
   "metadata": {},
   "source": [
    "Reportando coeficientes"
   ]
  },
  {
   "cell_type": "code",
   "execution_count": 14,
   "metadata": {},
   "outputs": [
    {
     "name": "stdout",
     "output_type": "stream",
     "text": [
      "Beta_0:  7.091776198486613\n",
      "Beta_1:  0.04707931921390821\n"
     ]
    }
   ],
   "source": [
    "print('Beta_0: ', tv_slr_model.beta0)\n",
    "print('Beta_1: ', tv_slr_model.beta1)"
   ]
  },
  {
   "cell_type": "markdown",
   "metadata": {},
   "source": [
    "#### Variável Rádio contra Sales"
   ]
  },
  {
   "cell_type": "markdown",
   "metadata": {},
   "source": [
    "Antes de tudo, vamos plotar o gráfico que mostre a relação entre Rádio e vendas"
   ]
  },
  {
   "cell_type": "code",
   "execution_count": 15,
   "metadata": {},
   "outputs": [
    {
     "data": {
      "text/plain": [
       "<matplotlib.collections.PathCollection at 0x7f5898700cf8>"
      ]
     },
     "execution_count": 15,
     "metadata": {},
     "output_type": "execute_result"
    },
    {
     "data": {
      "image/png": "[encoded data removed]",
      "text/plain": [
       "<Figure size 432x288 with 1 Axes>"
      ]
     },
     "metadata": {
      "needs_background": "light"
     },
     "output_type": "display_data"
    }
   ],
   "source": [
    "plt.scatter(radio_train, y_train)"
   ]
  },
  {
   "cell_type": "markdown",
   "metadata": {},
   "source": [
    "Criando modelo e predizendo novos valores"
   ]
  },
  {
   "cell_type": "code",
   "execution_count": 16,
   "metadata": {},
   "outputs": [],
   "source": [
    "radio_slr_model = SingleLinearRegression()\n",
    "radio_slr_model.fit(radio_train,y_train)\n",
    "radio_predicted = radio_slr_model.predict(radio_test)"
   ]
  },
  {
   "cell_type": "markdown",
   "metadata": {},
   "source": [
    "Plotando os valores preditos em um gráfico\n"
   ]
  },
  {
   "cell_type": "code",
   "execution_count": 17,
   "metadata": {},
   "outputs": [
    {
     "data": {
      "text/plain": [
       "[<matplotlib.lines.Line2D at 0x7f5898735be0>]"
      ]
     },
     "execution_count": 17,
     "metadata": {},
     "output_type": "execute_result"
    },
    {
     "data": {
      "image/png": "[encoded data removed]",
      "text/plain": [
       "<Figure size 432x288 with 1 Axes>"
      ]
     },
     "metadata": {
      "needs_background": "light"
     },
     "output_type": "display_data"
    }
   ],
   "source": [
    "plt.scatter(radio_train, y_train)\n",
    "plt.plot(radio_test,radio_predicted, c='r')"
   ]
  },
  {
   "cell_type": "markdown",
   "metadata": {},
   "source": [
    "Reportando RSS, SER, R2 e o MAE"
   ]
  },
  {
   "cell_type": "code",
   "execution_count": 18,
   "metadata": {},
   "outputs": [
    {
     "name": "stdout",
     "output_type": "stream",
     "text": [
      "RSS:  146.05317149560523\n",
      "SER:  4.272779708451004\n",
      "R2:  0.5479527851247471\n",
      "MAE:  3.0238226874697025\n"
     ]
    }
   ],
   "source": [
    "print('RSS: ', f.rss(y_test, radio_predicted))\n",
    "print('SER: ', f.rse(y_test, radio_predicted))\n",
    "print('R2: ', f.r2(y_test, radio_predicted))\n",
    "print('MAE: ', f.mae(y_test, radio_predicted))"
   ]
  },
  {
   "cell_type": "markdown",
   "metadata": {},
   "source": [
    "Reportando coeficientes"
   ]
  },
  {
   "cell_type": "code",
   "execution_count": 19,
   "metadata": {},
   "outputs": [
    {
     "name": "stdout",
     "output_type": "stream",
     "text": [
      "Beta_0:  9.416200010917194\n",
      "Beta_1:  0.19837823217150857\n"
     ]
    }
   ],
   "source": [
    "print('Beta_0: ', radio_slr_model.beta0)\n",
    "print('Beta_1: ', radio_slr_model.beta1)"
   ]
  },
  {
   "cell_type": "markdown",
   "metadata": {},
   "source": [
    "#### Variável Jornal contra Sales"
   ]
  },
  {
   "cell_type": "markdown",
   "metadata": {},
   "source": [
    "Antes de tudo, vamos plotar o gráfico que mostre a relação entre Jornal e vendas"
   ]
  },
  {
   "cell_type": "code",
   "execution_count": 20,
   "metadata": {},
   "outputs": [
    {
     "data": {
      "text/plain": [
       "<matplotlib.collections.PathCollection at 0x7f5898643908>"
      ]
     },
     "execution_count": 20,
     "metadata": {},
     "output_type": "execute_result"
    },
    {
     "data": {
      "image/png": "[encoded data removed]",
      "text/plain": [
       "<Figure size 432x288 with 1 Axes>"
      ]
     },
     "metadata": {
      "needs_background": "light"
     },
     "output_type": "display_data"
    }
   ],
   "source": [
    "plt.scatter(jornal_train, y_train)"
   ]
  },
  {
   "cell_type": "markdown",
   "metadata": {},
   "source": [
    "Criando modelo e predizendo novos valores"
   ]
  },
  {
   "cell_type": "code",
   "execution_count": 21,
   "metadata": {},
   "outputs": [],
   "source": [
    "jornal_slr_model = SingleLinearRegression()\n",
    "jornal_slr_model.fit(jornal_train,y_train)\n",
    "jornal_predicted = jornal_slr_model.predict(jornal_test)"
   ]
  },
  {
   "cell_type": "markdown",
   "metadata": {},
   "source": [
    "Plotando os valores preditos em um gráfico"
   ]
  },
  {
   "cell_type": "code",
   "execution_count": 22,
   "metadata": {},
   "outputs": [
    {
     "data": {
      "text/plain": [
       "[<matplotlib.lines.Line2D at 0x7f589866c438>]"
      ]
     },
     "execution_count": 22,
     "metadata": {},
     "output_type": "execute_result"
    },
    {
     "data": {
      "image/png": "[encoded data removed]",
      "text/plain": [
       "<Figure size 432x288 with 1 Axes>"
      ]
     },
     "metadata": {
      "needs_background": "light"
     },
     "output_type": "display_data"
    }
   ],
   "source": [
    "plt.scatter(jornal_train, y_train)\n",
    "plt.plot(jornal_test, jornal_predicted, c='r')"
   ]
  },
  {
   "cell_type": "markdown",
   "metadata": {},
   "source": [
    "Reportando RSS, SER, R2 e o MAE"
   ]
  },
  {
   "cell_type": "code",
   "execution_count": 23,
   "metadata": {},
   "outputs": [
    {
     "name": "stdout",
     "output_type": "stream",
     "text": [
      "RSS:  282.1540739675402\n",
      "SER:  5.938792743137491\n",
      "R2:  0.1258766947441089\n",
      "MAE:  4.338322217692371\n"
     ]
    }
   ],
   "source": [
    "print('RSS: ', f.rss(y_test, jornal_predicted))\n",
    "print('SER: ', f.rse(y_test, jornal_predicted))\n",
    "print('R2: ', f.r2(y_test, jornal_predicted))\n",
    "print('MAE: ', f.mae(y_test, jornal_predicted))"
   ]
  },
  {
   "cell_type": "markdown",
   "metadata": {},
   "source": [
    "Reportando coeficientes"
   ]
  },
  {
   "cell_type": "code",
   "execution_count": 24,
   "metadata": {},
   "outputs": [
    {
     "name": "stdout",
     "output_type": "stream",
     "text": [
      "Beta_0:  12.451133794142665\n",
      "Beta_1:  0.051436633713917566\n"
     ]
    }
   ],
   "source": [
    "print('Beta_0: ', jornal_slr_model.beta0)\n",
    "print('Beta_1: ', jornal_slr_model.beta1)"
   ]
  },
  {
   "cell_type": "markdown",
   "metadata": {},
   "source": [
    "##### Análise entre os erros e os parâmetros"
   ]
  },
  {
   "cell_type": "markdown",
   "metadata": {},
   "source": [
    "Ao fazer uma análise geral sobre os resultados obtidos, pude perceber que os dados que matém uma melhor correlação são entre TV e Sales. Isso pode ser notado um pouco quando observamos os gráficos, uma vez que o que mostra a relação entre TV e Sales melhor \"comportada\" do que os demais, ou seja, segue um padrão visual mais fácil de identificar e associar com melhor facilidade uma relação do que os demais.\n",
    "\n",
    "A relação dos demais é pouca, e quando observamos os seus gráficos é possível perceber que os pontos da relação estão bem disperços um com relação aos demais. Quando usamos as funções de avaliação e avaliamos os seus resultados, as conclusões ficaram mais claras e realmente podemos confirmar a suposição que os gráficos nos permitiram identificar."
   ]
  },
  {
   "cell_type": "markdown",
   "metadata": {},
   "source": [
    "### 03. Aplicando Regressão Linear Múltipla"
   ]
  },
  {
   "cell_type": "markdown",
   "metadata": {},
   "source": [
    "Como na regressão múltipla todas as colunas dos três produtos podem ser usados de forma simultânea, não precisaremos dividir as colunas como na questão anterior. Dessa forma, usaremos as variáveis `X_train` e `X_test` normalmente."
   ]
  },
  {
   "cell_type": "code",
   "execution_count": 25,
   "metadata": {},
   "outputs": [
    {
     "data": {
      "text/plain": [
       "(10, 3)"
      ]
     },
     "execution_count": 25,
     "metadata": {},
     "output_type": "execute_result"
    }
   ],
   "source": [
    "X_train.shape\n",
    "X_test.shape"
   ]
  },
  {
   "cell_type": "code",
   "execution_count": 26,
   "metadata": {},
   "outputs": [],
   "source": [
    "mlr_model = MultipleLinearRegression()\n",
    "mlr_model.fit(X_train,y_train)\n",
    "mlr_predicted = mlr_model.predict(X_test)"
   ]
  },
  {
   "cell_type": "markdown",
   "metadata": {},
   "source": [
    "Reportando RSS, SER, R2 e o MAE"
   ]
  },
  {
   "cell_type": "code",
   "execution_count": 27,
   "metadata": {},
   "outputs": [
    {
     "name": "stdout",
     "output_type": "stream",
     "text": [
      "RSS:  23.30215352171702\n",
      "SER:  1.7066836819442048\n",
      "R2:  0.928983594198039\n",
      "MAE:  1.410076987494361\n"
     ]
    }
   ],
   "source": [
    "print('RSS: ', f.rss(y_test, mlr_predicted))\n",
    "print('SER: ', f.rse(y_test, mlr_predicted))\n",
    "print('R2: ', f.r2(y_test, mlr_predicted))\n",
    "print('MAE: ', f.mae(y_test, mlr_predicted))"
   ]
  },
  {
   "cell_type": "markdown",
   "metadata": {},
   "source": [
    "Reportando coeficientes"
   ]
  },
  {
   "cell_type": "code",
   "execution_count": 28,
   "metadata": {},
   "outputs": [
    {
     "data": {
      "text/plain": [
       "array([ 2.83880272e+00,  4.59951521e-02,  1.90037049e-01, -1.21422376e-03])"
      ]
     },
     "execution_count": 28,
     "metadata": {},
     "output_type": "execute_result"
    }
   ],
   "source": [
    "mlr_model.beta"
   ]
  },
  {
   "cell_type": "markdown",
   "metadata": {},
   "source": [
    "##### Análise e comparação com os resultados da questão anterior"
   ]
  },
  {
   "cell_type": "markdown",
   "metadata": {},
   "source": [
    "Após realizar uma comparação com os resultados anteriores, foi possível perceber que os valores preditos no modelo múltiplo obtiveram um resultado mais satisfatório quando realizamos os comparativos com as funções de avaliação. Ou seja, os valores retornados da mesma foi menor, o que implica dizer que o erro dos valores preditos e os reais acabaram por ser menores do que do modelo linear item a item."
   ]
  }
 ],
 "metadata": {
  "kernelspec": {
   "display_name": "Python 3",
   "language": "python",
   "name": "python3"
  },
  "language_info": {
   "codemirror_mode": {
    "name": "ipython",
    "version": 3
   },
   "file_extension": ".py",
   "mimetype": "text/x-python",
   "name": "python",
   "nbconvert_exporter": "python",
   "pygments_lexer": "ipython3",
   "version": "3.7.3"
  }
 },
 "nbformat": 4,
 "nbformat_minor": 2
}
