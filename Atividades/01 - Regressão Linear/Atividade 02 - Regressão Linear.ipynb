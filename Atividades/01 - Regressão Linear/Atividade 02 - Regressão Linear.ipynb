{
 "cells": [
  {
   "cell_type": "markdown",
   "metadata": {},
   "source": [
    "# Atividade 02 - Regressão Linear (06/03/2020)"
   ]
  },
  {
   "cell_type": "markdown",
   "metadata": {},
   "source": [
    "Importando bibliotecas que serão usadas na resoluação da atividade"
   ]
  },
  {
   "cell_type": "code",
   "execution_count": 1,
   "metadata": {},
   "outputs": [],
   "source": [
    "import numpy as np\n",
    "import matplotlib.pyplot as plt\n",
    "%matplotlib inline"
   ]
  },
  {
   "cell_type": "markdown",
   "metadata": {},
   "source": [
    "## 01. Carregando dados"
   ]
  },
  {
   "cell_type": "markdown",
   "metadata": {},
   "source": [
    "Carregando os dados em uma variável usando numpy"
   ]
  },
  {
   "cell_type": "code",
   "execution_count": 2,
   "metadata": {},
   "outputs": [],
   "source": [
    "data = np.loadtxt('files/housing.data')"
   ]
  },
  {
   "cell_type": "markdown",
   "metadata": {},
   "source": [
    "## 02. Separando apenas LSTAT e MEDV"
   ]
  },
  {
   "cell_type": "markdown",
   "metadata": {},
   "source": [
    "Usaremos apenas LSTAT como atributo preditor e MEDV como atributo alvo. Essas duas ocupam as duas últimas colunas dos dados. Dessa forma, separaremos apenas essas duas colunas."
   ]
  },
  {
   "cell_type": "code",
   "execution_count": 3,
   "metadata": {},
   "outputs": [],
   "source": [
    "data = data[:,-2:]"
   ]
  },
  {
   "cell_type": "markdown",
   "metadata": {},
   "source": [
    "## 03. Embaralhando as amostras e dividindo as amostras em treino e teste"
   ]
  },
  {
   "cell_type": "markdown",
   "metadata": {},
   "source": [
    "Usando numpy como forma de embaralharos dados"
   ]
  },
  {
   "cell_type": "code",
   "execution_count": 4,
   "metadata": {},
   "outputs": [],
   "source": [
    "np.random.shuffle(data)"
   ]
  },
  {
   "cell_type": "markdown",
   "metadata": {},
   "source": [
    "Usando numpy para separar os dados entre treino e teste. Para isso, faremos uma pequena conta para obter o quanto 80% representa de todos os dados da amostra. Como forma de garantir que esse valor retornado seja um inteiro, retornaremos o valor arredondado do cálculo. `pt` é uma variável que representa a porcentagem de treino a ser usada."
   ]
  },
  {
   "cell_type": "code",
   "execution_count": 5,
   "metadata": {},
   "outputs": [],
   "source": [
    "pt = round(data.shape[0] * .8)"
   ]
  },
  {
   "cell_type": "markdown",
   "metadata": {},
   "source": [
    "Agora que obtemos o valor que representa os 80%, podemos separar os dados de forma que a primeira quantidade representada por `pt` seja usado como dados de treino e os demais como dados de teste."
   ]
  },
  {
   "cell_type": "code",
   "execution_count": 6,
   "metadata": {},
   "outputs": [],
   "source": [
    "data_train = data[:pt,:]\n",
    "data_test = data[pt:,:]"
   ]
  },
  {
   "cell_type": "markdown",
   "metadata": {},
   "source": [
    "## 04. Aplicando Regressão Linear"
   ]
  },
  {
   "cell_type": "markdown",
   "metadata": {},
   "source": [
    "Antes de aplicarmos a Regressão propriamente dita, teremos que construir a nossa classe que realizará a regressão linear"
   ]
  },
  {
   "cell_type": "code",
   "execution_count": 7,
   "metadata": {},
   "outputs": [],
   "source": [
    "class SingleLinearRegression():\n",
    "    def __init__(self):\n",
    "        self.beta0 = None\n",
    "        self.beta1 = None\n",
    "    \n",
    "    def fit(self, X, y):\n",
    "        self.X = np.array(X)\n",
    "        self.y = np.array(y)\n",
    "        \n",
    "        x_mean = X.mean()\n",
    "        y_mean = y.mean()\n",
    "        \n",
    "        x_dif = X-x_mean\n",
    "        y_dif = y-y_mean\n",
    "        \n",
    "        xy = x_dif*y_dif\n",
    "        xx = x_dif*x_dif\n",
    "        \n",
    "        a = sum(xy)\n",
    "        b = sum(xx)\n",
    "        \n",
    "        self.beta1 = a/b\n",
    "        self.beta0 = y_mean-(self.beta1*x_mean)\n",
    "        \n",
    "    \n",
    "    def predict(self, X):\n",
    "        return self.beta0+(self.beta1*X)"
   ]
  },
  {
   "cell_type": "markdown",
   "metadata": {},
   "source": [
    "Agora que temos nossa classe contruída, podemos criar uma instância para o modelo que iremos usar."
   ]
  },
  {
   "cell_type": "code",
   "execution_count": 8,
   "metadata": {},
   "outputs": [],
   "source": [
    "lr = SingleLinearRegression()"
   ]
  },
  {
   "cell_type": "markdown",
   "metadata": {},
   "source": [
    "Como os nossos dados estão apenas na divisão de treino e de teste, irei agora separá-los entre os valores de `X` e `y`."
   ]
  },
  {
   "cell_type": "code",
   "execution_count": 9,
   "metadata": {},
   "outputs": [],
   "source": [
    "X_train = np.array(data_train[:,0])\n",
    "y_train = np.array(data_train[:,1])"
   ]
  },
  {
   "cell_type": "markdown",
   "metadata": {},
   "source": [
    "Agora, com os nossos dados separados, iremos treinar os nosso modelo."
   ]
  },
  {
   "cell_type": "code",
   "execution_count": 10,
   "metadata": {},
   "outputs": [],
   "source": [
    "lr.fit(X_train, y_train)"
   ]
  },
  {
   "cell_type": "markdown",
   "metadata": {},
   "source": [
    "Após treinar o nosso modelo, iremos agora predizer quais seriam os possíveis valores para os dados de testes que foram separados. No entato, teremos ainda que separar os dados de teste entre `X` e `y`."
   ]
  },
  {
   "cell_type": "code",
   "execution_count": 11,
   "metadata": {},
   "outputs": [],
   "source": [
    "X_test = data_test[:,0]\n",
    "y_test = data_test[:,1]\n",
    "\n",
    "predicted = lr.predict(X_test)"
   ]
  },
  {
   "cell_type": "markdown",
   "metadata": {},
   "source": [
    "### Criando funções que servirão como métricas de avaliação para os dados que foram preditos"
   ]
  },
  {
   "cell_type": "markdown",
   "metadata": {},
   "source": [
    "O uso da métrica $R^2$ já foi realizado no exercício anterior, po outro lado, a métrica $MSE$ ou $Mean Squared  Error$ mede a média dos erros quadrados, ou seja, para cada valor predito, é calculado o seu erro com o valor real, esses erros são elevados ao quadrado e somados e ao final, é tirado sua média.\n",
    "\n",
    "Fórmula do $MSE$:\n",
    "\n",
    "\\begin{align*}\n",
    "    MSE = \\frac{1}{n}\\sum_{i=0}^{n-1}(y_i - \\hat{y_i})^2\n",
    "\\end{align*}"
   ]
  },
  {
   "cell_type": "code",
   "execution_count": 12,
   "metadata": {},
   "outputs": [],
   "source": [
    "class functions():\n",
    "    def __init__(self):\n",
    "        pass\n",
    "    \n",
    "    # Residual Square Sum (RSS)\n",
    "    def rss(self, y_true, y_pred):\n",
    "        return np.sum((y_true-y_pred)**2)\n",
    "    \n",
    "    # TSS que será usada por R2\n",
    "    def tss(self, y_true, y_pred):\n",
    "        y_mean = np.mean(y_pred)\n",
    "        return np.sum((y_true-y_mean)**2)\n",
    "    \n",
    "    # R2 Static\n",
    "    def r2(self, y_true, y_pred):\n",
    "        return 1-(self.rss(y_true, y_pred)/self.tss(y_true, y_pred))\n",
    "    \n",
    "    # MSE\n",
    "    def mse(self, y_true, y_pred):\n",
    "        e = y_true-y_pred\n",
    "        e2 = e*e\n",
    "        return (sum(e2)).mean()"
   ]
  },
  {
   "cell_type": "markdown",
   "metadata": {},
   "source": [
    "#### a) Reportando $MSE$ e $R^2$"
   ]
  },
  {
   "cell_type": "markdown",
   "metadata": {},
   "source": [
    "Antes de reportar esses valores, iremos logo criar um objeto para a classe que contém essas funções."
   ]
  },
  {
   "cell_type": "code",
   "execution_count": 13,
   "metadata": {},
   "outputs": [],
   "source": [
    "funcoes = functions()"
   ]
  },
  {
   "cell_type": "markdown",
   "metadata": {},
   "source": [
    "Agora iremos reportar os valores para cada uma das métricas"
   ]
  },
  {
   "cell_type": "code",
   "execution_count": 14,
   "metadata": {},
   "outputs": [
    {
     "name": "stdout",
     "output_type": "stream",
     "text": [
      "MSE:  3706.760021286806\n",
      "R^2:  0.5726931979017622\n"
     ]
    }
   ],
   "source": [
    "print(\"MSE: \", funcoes.mse(y_test, predicted))\n",
    "print(\"R^2: \", funcoes.r2(y_test, predicted))"
   ]
  },
  {
   "cell_type": "markdown",
   "metadata": {},
   "source": [
    "### Criando classe com funções para plotar gráficos"
   ]
  },
  {
   "cell_type": "markdown",
   "metadata": {},
   "source": [
    "Iremos agora construir uma classe que contenha funções em que dado as informações necessárias, irá imprimir um gráfico em tela. Isso será usado com o propósito de evitar excesso de códigos repetitivos."
   ]
  },
  {
   "cell_type": "code",
   "execution_count": 15,
   "metadata": {},
   "outputs": [],
   "source": [
    "class graphs:\n",
    "    def __init__(self):\n",
    "        pass\n",
    "    \n",
    "    def graph_one(self, x, y, predicted, xlabel='LSTAT', ylabel='MEDV'):\n",
    "        plt.scatter(x=x, y=y, c='blue')\n",
    "        plt.xlabel(xlabel)\n",
    "        plt.ylabel(ylabel)\n",
    "        plt.plot(x, predicted, c='r')\n",
    "        plt.show()\n",
    "       \n",
    "    \n",
    "    def graph_two(self, y_true, y_predicted, xlabel='Valores Preditos', ylabel='Valores Alvos Originais'):\n",
    "        plt.scatter(x=y_predicted, y=y_true)\n",
    "        plt.xlabel(xlabel)\n",
    "        plt.ylabel(ylabel)\n",
    "        plt.plot(y_true, y_true, c='r')\n",
    "        plt.show()"
   ]
  },
  {
   "cell_type": "markdown",
   "metadata": {},
   "source": [
    "#### b) Plotando gráfico com dados originais e reta de regressão"
   ]
  },
  {
   "cell_type": "markdown",
   "metadata": {},
   "source": [
    "Antes de plotar os gráficos, temos que criar o objeto que terá o conhecimento das funções a serem usadas."
   ]
  },
  {
   "cell_type": "code",
   "execution_count": 16,
   "metadata": {},
   "outputs": [],
   "source": [
    "graphs = graphs()"
   ]
  },
  {
   "cell_type": "code",
   "execution_count": 17,
   "metadata": {},
   "outputs": [
    {
     "data": {
      "image/png": "[encoded data removed]",
      "text/plain": [
       "<Figure size 432x288 with 1 Axes>"
      ]
     },
     "metadata": {
      "needs_background": "light"
     },
     "output_type": "display_data"
    }
   ],
   "source": [
    "graphs.graph_one(X_test, y_test, predicted)"
   ]
  },
  {
   "cell_type": "markdown",
   "metadata": {},
   "source": [
    "O gráfico acima mostra como está a distribuição da relação com o valor do atributo preditor e o valor do atributo alvo. A reta mostra a regressão predita."
   ]
  },
  {
   "cell_type": "markdown",
   "metadata": {},
   "source": [
    "#### c) Plotando gráfico com valores preditos em X e reais em Y com reta Y=X"
   ]
  },
  {
   "cell_type": "markdown",
   "metadata": {},
   "source": [
    "Abaixo temos um gráfico com uma relação entre os dados originais, no eixo de X e os dados preditos, no eixo de Y."
   ]
  },
  {
   "cell_type": "code",
   "execution_count": 18,
   "metadata": {},
   "outputs": [
    {
     "data": {
      "image/png": "[encoded data removed]",
      "text/plain": [
       "<Figure size 432x288 with 1 Axes>"
      ]
     },
     "metadata": {
      "needs_background": "light"
     },
     "output_type": "display_data"
    }
   ],
   "source": [
    "graphs.graph_two(y_test, predicted)"
   ]
  },
  {
   "cell_type": "markdown",
   "metadata": {},
   "source": [
    "#### d) Usando termo $LSTAT^2$"
   ]
  },
  {
   "cell_type": "markdown",
   "metadata": {},
   "source": [
    "Antes de aplicarmos a regressão linear propriamente dita sobre os dados, temos que elevar ao quadrado o valor do atributo preditor. Assim sendo, separaremos os dados novamente atribuindo os seus valores corretamente."
   ]
  },
  {
   "cell_type": "code",
   "execution_count": 19,
   "metadata": {},
   "outputs": [],
   "source": [
    "X_train_2 = X_train * X_train\n",
    "X_test_2 = X_test * X_test"
   ]
  },
  {
   "cell_type": "markdown",
   "metadata": {},
   "source": [
    "Criaremos um novo modelo para a Regressão Lienar."
   ]
  },
  {
   "cell_type": "code",
   "execution_count": 20,
   "metadata": {},
   "outputs": [],
   "source": [
    "lr2 = SingleLinearRegression()"
   ]
  },
  {
   "cell_type": "markdown",
   "metadata": {},
   "source": [
    "Treinaremos o novo modelo."
   ]
  },
  {
   "cell_type": "code",
   "execution_count": 21,
   "metadata": {},
   "outputs": [],
   "source": [
    "lr2.fit(X_train_2, y_train)"
   ]
  },
  {
   "cell_type": "markdown",
   "metadata": {},
   "source": [
    "Agora iremos predizer os novos valores dado a modificação do atributo preditor."
   ]
  },
  {
   "cell_type": "code",
   "execution_count": 22,
   "metadata": {},
   "outputs": [],
   "source": [
    "predicted2 = lr2.predict(X_test_2)"
   ]
  },
  {
   "cell_type": "markdown",
   "metadata": {},
   "source": [
    "##### Reportando os valores para as métricas $MSE$ e $R^2$"
   ]
  },
  {
   "cell_type": "code",
   "execution_count": 23,
   "metadata": {},
   "outputs": [
    {
     "name": "stdout",
     "output_type": "stream",
     "text": [
      "MSE:  4840.891803418661\n",
      "R^2:  0.4421569141810455\n"
     ]
    }
   ],
   "source": [
    "print(\"MSE: \", funcoes.mse(y_test, predicted2))\n",
    "print(\"R^2: \", funcoes.r2(y_test, predicted2))"
   ]
  },
  {
   "cell_type": "markdown",
   "metadata": {},
   "source": [
    "##### Plotando primeiro gráfico"
   ]
  },
  {
   "cell_type": "code",
   "execution_count": 24,
   "metadata": {},
   "outputs": [
    {
     "data": {
      "image/png": "[encoded data removed]",
      "text/plain": [
       "<Figure size 432x288 with 1 Axes>"
      ]
     },
     "metadata": {
      "needs_background": "light"
     },
     "output_type": "display_data"
    }
   ],
   "source": [
    "graphs.graph_one(x=X_test_2, y=y_test, predicted=predicted2, xlabel=\"LSTAT^2\")"
   ]
  },
  {
   "cell_type": "markdown",
   "metadata": {},
   "source": [
    "##### Plotando segundo gráfico"
   ]
  },
  {
   "cell_type": "code",
   "execution_count": 25,
   "metadata": {},
   "outputs": [
    {
     "data": {
      "image/png": "[encoded data removed]",
      "text/plain": [
       "<Figure size 432x288 with 1 Axes>"
      ]
     },
     "metadata": {
      "needs_background": "light"
     },
     "output_type": "display_data"
    }
   ],
   "source": [
    "graphs.graph_two(y_true=y_test, y_predicted=predicted2)"
   ]
  },
  {
   "cell_type": "markdown",
   "metadata": {},
   "source": [
    "#### e) Usando termo $LSTAT^3$"
   ]
  },
  {
   "cell_type": "markdown",
   "metadata": {},
   "source": [
    "Antes de criarmos esse modelo também, precisaremos fazer o mesmo que com o anterior, no caso, separar os dados e salvar da maneira que precisaremos."
   ]
  },
  {
   "cell_type": "code",
   "execution_count": 26,
   "metadata": {},
   "outputs": [],
   "source": [
    "X_train_3 = X_train ** 3\n",
    "X_test_3 = X_test ** 3"
   ]
  },
  {
   "cell_type": "markdown",
   "metadata": {},
   "source": [
    "Criaremos um novo modelo para a Regressão Linear."
   ]
  },
  {
   "cell_type": "code",
   "execution_count": 27,
   "metadata": {},
   "outputs": [],
   "source": [
    "lr3 = SingleLinearRegression()"
   ]
  },
  {
   "cell_type": "markdown",
   "metadata": {},
   "source": [
    "Treinaremos o novo modelo com os valores dos atributos atualizados."
   ]
  },
  {
   "cell_type": "code",
   "execution_count": 28,
   "metadata": {},
   "outputs": [],
   "source": [
    "lr3.fit(X_train_3, y_train)"
   ]
  },
  {
   "cell_type": "markdown",
   "metadata": {},
   "source": [
    "Agora iremos predizer novos valores com base no modelo criado e no valor dos atributos de teste atualizados"
   ]
  },
  {
   "cell_type": "code",
   "execution_count": 29,
   "metadata": {},
   "outputs": [],
   "source": [
    "predicted3 = lr3.predict(X_test_3)"
   ]
  },
  {
   "cell_type": "markdown",
   "metadata": {},
   "source": [
    "##### Reportando os valores das métricas para o $MSE$ e para o $R^2$"
   ]
  },
  {
   "cell_type": "code",
   "execution_count": 30,
   "metadata": {},
   "outputs": [
    {
     "name": "stdout",
     "output_type": "stream",
     "text": [
      "MSE:  5842.443472511848\n",
      "R^2:  0.32774499779273125\n"
     ]
    }
   ],
   "source": [
    "print(\"MSE: \", funcoes.mse(y_test, predicted3))\n",
    "print(\"R^2: \", funcoes.r2(y_test, predicted3))"
   ]
  },
  {
   "cell_type": "markdown",
   "metadata": {},
   "source": [
    "##### Plotando primeiro gráfico"
   ]
  },
  {
   "cell_type": "code",
   "execution_count": 31,
   "metadata": {},
   "outputs": [
    {
     "data": {
      "image/png": "[encoded data removed]",
      "text/plain": [
       "<Figure size 432x288 with 1 Axes>"
      ]
     },
     "metadata": {
      "needs_background": "light"
     },
     "output_type": "display_data"
    }
   ],
   "source": [
    "graphs.graph_one(x=X_test_3, y=y_test, predicted=predicted3, xlabel=\"LSTAT^2\")"
   ]
  },
  {
   "cell_type": "markdown",
   "metadata": {},
   "source": [
    "##### Plotando segundo gráfico"
   ]
  },
  {
   "cell_type": "code",
   "execution_count": 32,
   "metadata": {},
   "outputs": [
    {
     "data": {
      "image/png": "[encoded data removed]",
      "text/plain": [
       "<Figure size 432x288 with 1 Axes>"
      ]
     },
     "metadata": {
      "needs_background": "light"
     },
     "output_type": "display_data"
    }
   ],
   "source": [
    "graphs.graph_two(y_true=y_test, y_predicted=predicted3)"
   ]
  },
  {
   "cell_type": "markdown",
   "metadata": {},
   "source": [
    "Repositório de [Machine Learning](https://www.github.com/wesleypedro/Machine-Learning) no [GitHub](https://www.github.com/wesleypedro/)."
   ]
  }
 ],
 "metadata": {
  "kernelspec": {
   "display_name": "Python 3",
   "language": "python",
   "name": "python3"
  },
  "language_info": {
   "codemirror_mode": {
    "name": "ipython",
    "version": 3
   },
   "file_extension": ".py",
   "mimetype": "text/x-python",
   "name": "python",
   "nbconvert_exporter": "python",
   "pygments_lexer": "ipython3",
   "version": "3.7.3"
  }
 },
 "nbformat": 4,
 "nbformat_minor": 2
}
