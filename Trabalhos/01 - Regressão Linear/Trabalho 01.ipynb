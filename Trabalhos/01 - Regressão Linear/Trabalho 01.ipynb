{
 "cells": [
  {
   "cell_type": "markdown",
   "metadata": {},
   "source": [
    "# Trabalho 01 - Regressão Linear"
   ]
  },
  {
   "cell_type": "markdown",
   "metadata": {},
   "source": [
    "Importando bibliotecas que serão usadas no trabalho"
   ]
  },
  {
   "cell_type": "code",
   "execution_count": 2,
   "metadata": {},
   "outputs": [
    {
     "ename": "SyntaxError",
     "evalue": "invalid syntax (<ipython-input-2-8f5eb3b9d796>, line 1)",
     "output_type": "error",
     "traceback": [
      "\u001b[0;36m  File \u001b[0;32m\"<ipython-input-2-8f5eb3b9d796>\"\u001b[0;36m, line \u001b[0;32m1\u001b[0m\n\u001b[0;31m    import Trabalho-01.py as tb1\u001b[0m\n\u001b[0m                   ^\u001b[0m\n\u001b[0;31mSyntaxError\u001b[0m\u001b[0;31m:\u001b[0m invalid syntax\n"
     ]
    }
   ],
   "source": [
    "import Trabalho-01.py as tb1\n",
    "\n",
    "import numpy as np\n",
    "import matplotlib.pyplot as plt\n",
    "%matplotlib inline"
   ]
  },
  {
   "cell_type": "markdown",
   "metadata": {},
   "source": [
    "### 01. Implemente os seguintes métodos:\n",
    "> Todos implementados no arquivo `Trabalho-01.py`.\n",
    "#### a) Regressão Linear univariada -método analítico.\n",
    "> Chamada da função: `function_name`.\n",
    "#### b) Regressão Linear univariada - gradiente descendente.\n",
    "> Chamada da função: `function_name`.\n",
    "#### c) Regressão Linear multivariada – método analítico (não esquecer de adicionar termo de bias).\n",
    "> Chamada da função: `function_name`.\n",
    "#### d) Regressão Linear multivariada – gradiente descendente.\n",
    "> Chamada da função: `function_name`.\n",
    "#### e) Regressão Linear multivariada – gradiente descendente estocástico.\n",
    "> Chamada da função: `function_name`.\n",
    "#### f) Regressão quadrática usando regressão múltipla.\n",
    "> Chamada da função: `function_name`.\n",
    "#### g) Regressão cúbica usando regressão múltipla.\n",
    "> Chamada da função: `function_name`.\n",
    "#### h) Regressão Linear Regularizada multivariada – gradiente descendente.\n",
    "> Chamada da função: `function_name`."
   ]
  },
  {
   "cell_type": "markdown",
   "metadata": {},
   "source": [
    "### 2. Implemente as funções\n",
    "> Todos implementados no arquivo `Trabalho-01.py`.\n",
    "#### a) MSE(y_true, y_predict).\n",
    "> Chamada da função: `functions.mse(y_true, y_predict)`.\n",
    "#### b) R2(y_true, y_predict).\n",
    "> Chamada da função: `functions.r2(y_true, y_predict)`."
   ]
  },
  {
   "cell_type": "code",
   "execution_count": null,
   "metadata": {},
   "outputs": [],
   "source": []
  },
  {
   "cell_type": "code",
   "execution_count": null,
   "metadata": {},
   "outputs": [],
   "source": []
  },
  {
   "cell_type": "code",
   "execution_count": null,
   "metadata": {},
   "outputs": [],
   "source": []
  }
 ],
 "metadata": {
  "kernelspec": {
   "display_name": "Python 3",
   "language": "python",
   "name": "python3"
  },
  "language_info": {
   "codemirror_mode": {
    "name": "ipython",
    "version": 3
   },
   "file_extension": ".py",
   "mimetype": "text/x-python",
   "name": "python",
   "nbconvert_exporter": "python",
   "pygments_lexer": "ipython3",
   "version": "3.7.6"
  }
 },
 "nbformat": 4,
 "nbformat_minor": 4
}
