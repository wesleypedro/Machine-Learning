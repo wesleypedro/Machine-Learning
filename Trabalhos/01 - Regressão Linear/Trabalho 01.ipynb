{
 "cells": [
  {
   "cell_type": "markdown",
   "metadata": {},
   "source": [
    "# Trabalho 01 - Regressão Linear"
   ]
  },
  {
   "cell_type": "markdown",
   "metadata": {},
   "source": [
    "Importando bibliotecas que serão usadas no trabalho"
   ]
  },
  {
   "cell_type": "code",
   "execution_count": 1,
   "metadata": {},
   "outputs": [],
   "source": [
    "import Trabalho01 as tb1\n",
    "\n",
    "import numpy as np\n",
    "import matplotlib.pyplot as plt\n",
    "%matplotlib inline"
   ]
  },
  {
   "cell_type": "markdown",
   "metadata": {},
   "source": [
    "### 01. Implemente os seguintes métodos:\n",
    "> Todos implementados no arquivo `Trabalho-01.py`.\n",
    "#### a) Regressão Linear univariada - método analítico.\n",
    "> Chamada da classe: `univariate_linear_regression_analytical_method()`.\n",
    "#### b) Regressão Linear univariada - gradiente descendente.\n",
    "> Chamada da classe: `univariate_linear_regression_descending_gradient()`.\n",
    "#### c) Regressão Linear multivariada – método analítico (não esquecer de adicionar termo de bias).\n",
    "> Chamada da classe: `multivariate_linear_regression_analytical_method()`.\n",
    "#### d) Regressão Linear multivariada – gradiente descendente.\n",
    "> Chamada da classe: `multivariate_linear_regression_descending_gradient()`.\n",
    "#### e) Regressão Linear multivariada – gradiente descendente estocástico.\n",
    "> Chamada da classe: `multivariate_linear_regression_stochastic_descending_gradient()`.\n",
    "#### f) Regressão quadrática usando regressão múltipla.\n",
    "> Chamada da classe: `quadratic_regression_using_multiple_regression()`.\n",
    "#### g) Regressão cúbica usando regressão múltipla.\n",
    "> Chamada da classe: `cubic_regression_using_multiple_regression()`.\n",
    "#### h) Regressão Linear Regularizada multivariada – gradiente descendente.\n",
    "> Chamada da classe: `multivariate_regularized_linear_regression_descending_gradient()`."
   ]
  },
  {
   "cell_type": "markdown",
   "metadata": {},
   "source": [
    "### 2. Implemente as funções\n",
    "> Todos implementados no arquivo `Trabalho-01.py`.\n",
    "#### a) MSE(y_true, y_predict).\n",
    "> Chamada da função: `functions.mse(y_true, y_predict)`.\n",
    "#### b) R2(y_true, y_predict).\n",
    "> Chamada da função: `functions.r2(y_true, y_predict)`."
   ]
  },
  {
   "cell_type": "markdown",
   "metadata": {},
   "source": [
    "### 3. Carregue o conjunto de dados _Boston House Price Dataset_\n",
    "> Disponível no seguinte [link](https://archive.ics.uci.edu/ml/machine-learning-databases/housing/)\n",
    "\n",
    "Attribute Information (descrição presente no próprio repositório do link):\n",
    "    \n",
    "<ol>\n",
    "    <li> CRIM      per capita crime rate by town </li>\n",
    "    <li> ZN        proportion of residential land zoned for lots over 25,000 sq.ft. </li>\n",
    "    <li> INDUS     proportion of non-retail business acres per town </li>\n",
    "    <li> CHAS      Charles River dummy variable (= 1 if tract bounds river; 0 otherwise) </li>\n",
    "    <li> NOX       nitric oxides concentration (parts per 10 million) </li>\n",
    "    <li> RM        average number of rooms per dwelling </li>\n",
    "    <li> AGE       proportion of owner-occupied units built prior to 1940 </li>\n",
    "    <li> DIS       weighted distances to five Boston employment centres </li>\n",
    "    <li> RAD       index of accessibility to radial highways </li>\n",
    "    <li> TAX      full-value property-tax rate per \\$10,000 </li>\n",
    "    <li> PTRATIO  pupil-teacher ratio by town </li>\n",
    "    <li> B        1000(Bk - 0.63)^2 where Bk is the proportion of blacks by town </li>\n",
    "    <li> LSTAT    % lower status of the population </li>\n",
    "    <li> MEDV     Median value of owner-occupied homes in \\$1000's </li>\n",
    "</ol>"
   ]
  },
  {
   "cell_type": "code",
   "execution_count": 2,
   "metadata": {},
   "outputs": [],
   "source": [
    "bhpd = np.loadtxt('datas/housing.data')"
   ]
  },
  {
   "cell_type": "markdown",
   "metadata": {},
   "source": [
    "### 4. Vamos analisar apenas a variável LSTAT como atributo preditor e a variável MEDV como atributo alvo\n",
    "> Separando dados na variável `data_1`"
   ]
  },
  {
   "cell_type": "code",
   "execution_count": 3,
   "metadata": {},
   "outputs": [],
   "source": [
    "data_1 = bhpd[:,-2:]"
   ]
  },
  {
   "cell_type": "markdown",
   "metadata": {},
   "source": [
    "### 5. Embaralhe as amostras com seus valores alvo. Divida o conjunto de dados em 80% para treino e 20% para teste"
   ]
  },
  {
   "cell_type": "code",
   "execution_count": 4,
   "metadata": {},
   "outputs": [],
   "source": [
    "np.random.shuffle(data_1)"
   ]
  },
  {
   "cell_type": "code",
   "execution_count": 5,
   "metadata": {},
   "outputs": [],
   "source": [
    "# Ponto de definição\n",
    "pt = round(data_1.shape[0] * .8)\n",
    "\n",
    "# Divisão de treino e teste\n",
    "data_train_1 = data_1[:pt,:]\n",
    "data_test_1 = data_1[pt:,:]\n",
    "\n",
    "# Separando entre X e y\n",
    "X_train_1 = np.array(data_train_1[:,0])\n",
    "y_train_1 = np.array(data_train_1[:,1])\n",
    "X_test_1 = data_test_1[:,0]\n",
    "y_test_1 = data_test_1[:,1]"
   ]
  },
  {
   "cell_type": "markdown",
   "metadata": {},
   "source": [
    "### 6. Para cada um dos métodos _a_, _b_, _f_ e _g_ da questão 1 faça o seguinte:"
   ]
  },
  {
   "cell_type": "markdown",
   "metadata": {},
   "source": [
    "    a. Reporte MSE e R2 score para o conjunto de treino e o de teste"
   ]
  },
  {
   "cell_type": "code",
   "execution_count": 6,
   "metadata": {},
   "outputs": [],
   "source": [
    "# Método a\n",
    "model_a = tb1.univariate_linear_regression_analytical_method()\n",
    "model_a.fit(X_train_1, y_train_1)\n",
    "y_predicted_train_a = model_a.predict(X_train_1)\n",
    "y_predicted_test_a = model_a.predict(X_test_1)"
   ]
  },
  {
   "cell_type": "code",
   "execution_count": 7,
   "metadata": {},
   "outputs": [],
   "source": [
    "# Método b\n",
    "model_b = tb1.univariate_linear_regression_descending_gradient()\n",
    "model_b.fit(X_train_1, y_train_1)\n",
    "y_predicted_train_b = model_b.predict(X_train_1)\n",
    "y_predicted_test_b = model_b.predict(X_test_1)"
   ]
  },
  {
   "cell_type": "code",
   "execution_count": 8,
   "metadata": {},
   "outputs": [],
   "source": [
    "# Método f\n",
    "# model_f = tb1.quadratic_regression_using_multiple_regression()\n",
    "# model_f.fit(X_train_1, y_train_1)\n",
    "# y_predicted_train_f = model_f.predict(X_train_1)\n",
    "# y_predicted_text_f = model_f.predict(X_test_1)"
   ]
  },
  {
   "cell_type": "code",
   "execution_count": 9,
   "metadata": {},
   "outputs": [],
   "source": [
    "# Método g\n",
    "# model_g = tb1.cubic_regression_using_multiple_regression()\n",
    "# model_g.fit(X_train_1, y_train_1)\n",
    "# y_predicted_train_g = model_g.predict(X_train_1)\n",
    "# y_predicted_text_g = model_g.predict(X_test_1)"
   ]
  },
  {
   "cell_type": "markdown",
   "metadata": {},
   "source": [
    "        Reportando as métricas"
   ]
  },
  {
   "cell_type": "code",
   "execution_count": 10,
   "metadata": {},
   "outputs": [
    {
     "name": "stdout",
     "output_type": "stream",
     "text": [
      "Método a\n",
      "Conjunto de treino\n",
      "\tMSE : 14580.251604675675\n",
      "\tR^2 : 0.5405051662404817\n",
      "Conjunto de teste\n",
      "\tMSE : 4928.439946023349\n",
      "\tR^2 : 0.5526407124830931\n",
      "\n",
      "Método b\n",
      "Conjunto de treino\n",
      "\tMSE : 121317.31566777016\n",
      "\tR^2 : -1.0875937833228502\n",
      "Conjunto de teste\n",
      "\tMSE : 34890.28222511744\n",
      "\tR^2 : -1.0974896456071814\n",
      "\n"
     ]
    }
   ],
   "source": [
    "functions = tb1.functions()\n",
    "\n",
    "# Método a\n",
    "print('Método a')\n",
    "print('Conjunto de treino')\n",
    "print('\\tMSE :', functions.mse(y_train_1, y_predicted_train_a))\n",
    "print('\\tR^2 :', functions.r2(y_train_1, y_predicted_train_a))\n",
    "print('Conjunto de teste')\n",
    "print('\\tMSE :', functions.mse(y_test_1, y_predicted_test_a))\n",
    "print('\\tR^2 :', functions.r2(y_test_1, y_predicted_test_a))\n",
    "print()\n",
    "\n",
    "# Método b\n",
    "print('Método b')\n",
    "print('Conjunto de treino')\n",
    "print('\\tMSE :', functions.mse(y_train_1, y_predicted_train_b))\n",
    "print('\\tR^2 :', functions.r2(y_train_1, y_predicted_train_b))\n",
    "print('Conjunto de teste')\n",
    "print('\\tMSE :', functions.mse(y_test_1, y_predicted_test_b))\n",
    "print('\\tR^2 :', functions.r2(y_test_1, y_predicted_test_b))\n",
    "print()"
   ]
  },
  {
   "cell_type": "markdown",
   "metadata": {},
   "source": [
    "    b. Reporte os coeficientes"
   ]
  },
  {
   "cell_type": "code",
   "execution_count": 11,
   "metadata": {},
   "outputs": [
    {
     "name": "stdout",
     "output_type": "stream",
     "text": [
      "Coeficiente beta_0 método a:  34.01032591024557\n",
      "Coeficiente beta_1 método a:  -0.9159106249371161\n",
      "\n",
      "Coeficiente w_0 método b:  [1.0841722]\n",
      "Coeficiente w_1 método b:  [1.06660429]\n",
      "\n"
     ]
    }
   ],
   "source": [
    "print('Coeficiente beta_0 método a: ', model_a.beta0)\n",
    "print('Coeficiente beta_1 método a: ', model_a.beta1)\n",
    "print()\n",
    "print('Coeficiente w_0 método b: ', model_b.w0)\n",
    "print('Coeficiente w_1 método b: ', model_b.w1)\n",
    "print()"
   ]
  },
  {
   "cell_type": "code",
   "execution_count": null,
   "metadata": {},
   "outputs": [],
   "source": []
  },
  {
   "cell_type": "markdown",
   "metadata": {},
   "source": [
    "### 7. Agora vamos analisar um segundo conjunto de dados. Carregue o conjunto de dados trab1_data.csv"
   ]
  },
  {
   "cell_type": "code",
   "execution_count": 12,
   "metadata": {},
   "outputs": [],
   "source": [
    "data = np.loadtxt('datas/trab1_advertising.csv', skiprows=1, delimiter=',')"
   ]
  },
  {
   "cell_type": "markdown",
   "metadata": {},
   "source": [
    "### 8. Para cada um dos métodos _c_, _d_, _e_ e _h_ (com $\\lambda$ = 1) da questão 1 faça o seguinte:"
   ]
  },
  {
   "cell_type": "code",
   "execution_count": null,
   "metadata": {},
   "outputs": [],
   "source": []
  },
  {
   "cell_type": "code",
   "execution_count": null,
   "metadata": {},
   "outputs": [],
   "source": []
  },
  {
   "cell_type": "code",
   "execution_count": null,
   "metadata": {},
   "outputs": [],
   "source": []
  },
  {
   "cell_type": "code",
   "execution_count": null,
   "metadata": {},
   "outputs": [],
   "source": []
  }
 ],
 "metadata": {
  "kernelspec": {
   "display_name": "Python 3",
   "language": "python",
   "name": "python3"
  },
  "language_info": {
   "codemirror_mode": {
    "name": "ipython",
    "version": 3
   },
   "file_extension": ".py",
   "mimetype": "text/x-python",
   "name": "python",
   "nbconvert_exporter": "python",
   "pygments_lexer": "ipython3",
   "version": "3.7.6"
  }
 },
 "nbformat": 4,
 "nbformat_minor": 4
}
